{
 "cells": [
  {
   "cell_type": "code",
   "execution_count": null,
   "id": "30518fd1",
   "metadata": {},
   "outputs": [],
   "source": [
    "# Data Generation"
   ]
  },
  {
   "cell_type": "markdown",
   "id": "0f4b3899",
   "metadata": {},
   "source": [
    " the ranges for staff members, time slots, patients, tasks, and resources represented in the first process are: N (1–21), denoting 20 members of staff (including physicians, nurses, surgeons, pharmacists, medical technologists, etc.); T (1–11), 10 time slots in hours; P (1–31), 30 patients; K (1–16), which represents 15 tasks (including administering medication, conducting patient assessments, assisting in surgeries, monitoring vital signs, providing wound care, conducting diagnostic tests, assisting with patient mobility, offering emotional support, collaborating with healthcare professionals, and educating patients on disease management); and R (1–11), which represents 10 allocated resources (including hospital beds, operating rooms, medical equipment, laboratory facilities, radiology equipment, surgical instruments, medications, ambulances, intensive care unit (ICU) beds, anesthesia machines, patient monitoring systems, wheelchairs, surgical supplies, imaging and diagnostic equipment, and personal protective equipment (PPE)). The ranges for the second process are N (1–31), T (1–6), P (1–21), K (1–11), and R (1–16).\n",
    "The parameters’ dictionaries were generated using the predefined ranges for the two procedures. In the dictionary, I contained random integer values between 1 and 10 for each combination of staff members i and j and time slot. For every staff member i and time slot t combination, the dictionary W included random integer values between 1 and 10. Moreover, we further generated new dictionaries that represented the model’s components. These dictionaries (C, D, Q, O, U, S, M, H, Dt, and F) capture healthcare scheduling optimization model parameters and relationships. Afterward, these new dictionaries were populated with random integer values (C (1–10), D (1–10), Q (1–10), O (1–10), U (1–10), S (1–5), M (1–5), H (8–12), Dt (2–5), and F (1–3)) in preset ranges to simulate data. The model optimization utilized these input data from the inherent simulation to arrive at the optimal value and further analyze it. Hence, for the model, generating random values within the given ranges created a diverse and representative dataset covering healthcare scheduling constraints."
   ]
  },
  {
   "cell_type": "code",
   "execution_count": null,
   "id": "65d61d5e",
   "metadata": {},
   "outputs": [],
   "source": [
    "## Staff Member Time slot"
   ]
  },
  {
   "cell_type": "code",
   "execution_count": null,
   "id": "e8d4f681",
   "metadata": {},
   "outputs": [],
   "source": []
  },
  {
   "cell_type": "code",
   "execution_count": 91,
   "id": "48391913",
   "metadata": {},
   "outputs": [],
   "source": [
    "from pyomo.environ import *\n",
    "import random\n",
    "# Define your model\n",
    "model = ConcreteModel()\n",
    "\n",
    "# Define the set of staff members (i) and time slots (t)\n",
    "N = range(1, 21) # N (1-21)\n",
    "T = range(1, 11)  # T (1-11)\n",
    "\n",
    "# Define the binary decision variables xit for each i and t\n",
    "model.x = Var(N, T, within=Binary)\n",
    "\n",
    "# Define the demand for staff at each time slot (Dt) within the range 1-10\n",
    "def Dt_init(model, t):\n",
    "    return random.randint(1, 10)\n",
    "\n",
    "model.Dt = Param(T, initialize=Dt_init) # Replace '...' with the demand for each time slot (1-10)\n",
    "\n",
    "# Define the constraint\n",
    "def demand_constraint_rule(model, t):\n",
    "    return sum(model.x[i, t] for i in N) == model.Dt[t]\n",
    "\n",
    "model.demand_constraint = Constraint(T, rule=demand_constraint_rule)\n",
    "\n",
    "# You can add additional constraints and objective functions as needed.\n",
    "\n",
    "# Optionally, you can specify bounds on the binary variables or other constraints if required.\n",
    "\n",
    "# You can now solve the model using a solver.\n"
   ]
  },
  {
   "cell_type": "code",
   "execution_count": null,
   "id": "c4ff9e01",
   "metadata": {},
   "outputs": [],
   "source": []
  },
  {
   "cell_type": "code",
   "execution_count": 92,
   "id": "a1e8a894-5e6a-45c7-a717-cf88bffcb88f",
   "metadata": {},
   "outputs": [],
   "source": [
    "# Define the binary decision variables xit for each i and t\n",
    "\n",
    "\n",
    "# Define the parameter Hi for the upper bound\n",
    "def H_init(model, i):\n",
    "    return random.randint(8, 12)\n",
    "\n",
    "model.H = Param(N, initialize=H_init)\n",
    "# Define the upper bound constraint using the LaTeX representation\n",
    "def upper_bound_constraint_rule(model, i):\n",
    "    return sum(model.x[i, t] for t in T) <= model.H[i]\n",
    "\n",
    "model.upper_bound_constraint = Constraint(N, rule=upper_bound_constraint_rule)\n",
    "\n",
    "# You can add additional constraints, objectives, and other model components as needed.\n",
    "\n",
    "# Optionally, you can specify bounds or other constraints on the binary variables if required.\n",
    "\n",
    "# You can now solve the model using a solver.\n"
   ]
  },
  {
   "cell_type": "code",
   "execution_count": 93,
   "id": "032f6c09-274a-44b3-bab9-970932ce226c",
   "metadata": {},
   "outputs": [],
   "source": [
    "# Define the sets T and P\n",
    "P = range(1,31)  # Replace '...' with the range of values for P\n",
    "\n",
    "# Define the decision variables ypt for each t and p\n",
    "model.y = Var(T, P, within=Binary)\n",
    "\n",
    "\n",
    "# Define the constraint\n",
    "def summation_constraint_rule(model, p):\n",
    "    return sum(model.y[t, p] for t in T) == 1\n",
    "\n",
    "model.summation_constraint = Constraint(P, rule=summation_constraint_rule)"
   ]
  },
  {
   "cell_type": "code",
   "execution_count": 94,
   "id": "602e883d-d1d4-4459-841c-61214a8d1c47",
   "metadata": {},
   "outputs": [],
   "source": [
    "R = range(1, 11)  # Replace '...' with the number of R values\n",
    "\n",
    "# Define the decision variable z\n",
    "model.z = Var(R, T, within=Binary)\n",
    "\n",
    "# Define the constraint\n",
    "def resource_constraint_rule(model, r):\n",
    "    return sum(model.z[r, t] for t in T) == 1\n",
    "\n",
    "model.resource_constraint = Constraint(R, rule=resource_constraint_rule)"
   ]
  },
  {
   "cell_type": "code",
   "execution_count": null,
   "id": "1589eda0-65fc-4a09-9e23-6017915e7737",
   "metadata": {},
   "outputs": [],
   "source": []
  },
  {
   "cell_type": "code",
   "execution_count": 95,
   "id": "07c740d7-4112-428b-867e-8b590b89825a",
   "metadata": {},
   "outputs": [],
   "source": [
    "\n",
    "model.o = Var(N, within=Binary)\n",
    "\n",
    "# Define the constraint\n",
    "def overtime_rule(model, i):\n",
    "    return model.o[i] >= sum(model.x[i, t] for t in T) - model.H[i]\n",
    "\n",
    "model.overtime = Constraint(N, rule=overtime_rule)"
   ]
  },
  {
   "cell_type": "code",
   "execution_count": null,
   "id": "67b0b05c-3407-4b77-9e8f-985286113897",
   "metadata": {},
   "outputs": [],
   "source": []
  },
  {
   "cell_type": "code",
   "execution_count": 96,
   "id": "85732aa7-5528-41cd-aec8-81b0e22c8e36",
   "metadata": {},
   "outputs": [],
   "source": [
    "\n",
    "# Define the parameter W with random integer values between 1 and 10\n",
    "def W_init(model, i, t):\n",
    "    return random.randint(1, 10)\n",
    "\n",
    "model.W = Param(N, T, initialize=W_init)\n",
    "\n",
    "\n",
    "def O_init(model, i):\n",
    "    return random.randint(1, 10)\n",
    "\n",
    "model.O = Param(N, initialize=O_init)\n",
    "\n",
    "\n",
    "def D_init(model, r, t):\n",
    "    return random.randint(2, 5)\n",
    "\n",
    "model.D = Param(R, T, initialize=D_init)\n",
    "\n",
    "# Define parameters and decision variables as needed.\n",
    "\n",
    "# Define the constraint\n",
    "model.budget = Constraint(\n",
    "    expr=sum(model.W[i, t] * model.x[i, t] + model.O[i] * model.o[i] for i in N for t in T) +\n",
    "          sum(model.D[r, t] * model.z[r, t] for r in R for t in T) <= 20\n",
    ")"
   ]
  },
  {
   "cell_type": "code",
   "execution_count": null,
   "id": "378a9c75-6646-4994-bcfd-237223257b70",
   "metadata": {},
   "outputs": [],
   "source": []
  },
  {
   "cell_type": "code",
   "execution_count": 97,
   "id": "affe87bb-75ac-4f56-9f74-6341a32a706d",
   "metadata": {},
   "outputs": [],
   "source": [
    "\n",
    "K = range(1, 16)\n",
    "# Define the S values for each staff member\n",
    "  # Replace '...' with the values of S for each staff member\n",
    "\n",
    "def S_init(model, n):\n",
    "    return random.randint(1, 5)\n",
    "\n",
    "model.S = Param(N, initialize=S_init)\n",
    "# Define the M values for each i, p, k, and t\n",
    "# M = {(i, p, k, t) : (i, p, k, t)\n",
    "#      for i in N for p in P for k in K for t in T}  \n",
    "\n",
    "def M_init(model, n, p, k, t):\n",
    "    return random.randint(1, 5)\n",
    "\n",
    "model.M = Param(N, P, K, T, initialize=M_init)\n",
    "\n",
    "# Define the constraint\n",
    "# Define the constraint using expr\n",
    "\n",
    "def constraint_expr_rule(model, n, p, k, t):\n",
    "    return sum(model.x[i, t] * model.S[i] for i in N) >= model.M[n, p, k, t]\n",
    "\n",
    "model.skill = Constraint(N, P, K, T, rule=constraint_expr_rule)"
   ]
  },
  {
   "cell_type": "code",
   "execution_count": 98,
   "id": "0861525a-5be8-4540-9448-2276452130b0",
   "metadata": {},
   "outputs": [],
   "source": [
    "def F_init(model, i, j):\n",
    "    return random.randint(1, 3)\n",
    "\n",
    "model.F = Param(N, N, initialize=F_init)\n",
    "\n",
    "# Define the constraint\n",
    "def max_difference_constraint_rule(model, i, j):\n",
    "    if i != j:\n",
    "        return sum(model.x[i, t] for t in T) - sum(model.x[j, t] for t in T) <= model.F[i, j]\n",
    "    else:\n",
    "        return Constraint.Skip\n",
    "\n",
    "model.max_difference_constraint = Constraint(N, N, rule=max_difference_constraint_rule)\n",
    "\n",
    "# You can add additional constraints and objective functions as needed.\n"
   ]
  },
  {
   "cell_type": "code",
   "execution_count": null,
   "id": "a969391f-f2a4-433a-b480-0d2097327393",
   "metadata": {},
   "outputs": [],
   "source": []
  },
  {
   "cell_type": "code",
   "execution_count": 99,
   "id": "a775905b-a226-431c-9869-95ad37f1ff18",
   "metadata": {},
   "outputs": [],
   "source": [
    "def I_init(model, i, j, t):\n",
    "    return random.randint(1, 10)\n",
    "\n",
    "model.I = Param(N, N, T, initialize=I_init)\n",
    "\n",
    "def P_init(model, p, t):\n",
    "    return random.randint(1, 10)\n",
    "\n",
    "model.P = Param(P,  T, initialize=P_init)\n",
    "\n",
    "def U_init(model, p):\n",
    "    return random.randint(1, 10)\n",
    "\n",
    "model.U = Param(P, initialize=U_init)\n",
    "\n",
    "\n",
    "def C_init(model, p, t):\n",
    "    return random.randint(1, 10)\n",
    "\n",
    "model.C = Param(P, T, initialize=C_init)\n",
    "\n",
    "model.v = Var(N, P, within=Binary)\n",
    "\n",
    "def objective_rule(model):\n",
    "    return (sum(model.W[i, t] * model.x[i, t] for i in N for t in T) + \n",
    "            sum(model.I[i, j, t] * model.x[i, t] * model.x[j, t] for i in N for j in N for t in T) +\n",
    "            sum(model.C[p, t] * model.y[t, p] for p in P for t in T) +\n",
    "            sum(model.D[r, t] * model.z[r, t] for r in R for t in T) +\n",
    "            sum(model.P[p, t] * model.y[t, p] for p in P for t in T) +\n",
    "            sum(model.O[i] * model.o[i] for i in N) +\n",
    "            sum(model.U[p] * model.v[i, p] for p in P for i in N for k in K for t in T) +\n",
    "            sum(model.S[i] * model.x[i, t] for i in N for t in T)\n",
    "        )\n",
    "\n",
    "model.objective = Objective(rule=objective_rule, sense=minimize)"
   ]
  },
  {
   "cell_type": "code",
   "execution_count": 100,
   "id": "70d235d8-8843-4c46-a686-32a3b18a9268",
   "metadata": {},
   "outputs": [
    {
     "ename": "GurobiError",
     "evalue": "Model too large for size-limited license; visit https://www.gurobi.com/free-trial for a full license",
     "output_type": "error",
     "traceback": [
      "\u001b[0;31m---------------------------------------------------------------------------\u001b[0m",
      "\u001b[0;31mGurobiError\u001b[0m                               Traceback (most recent call last)",
      "Cell \u001b[0;32mIn[100], line 4\u001b[0m\n\u001b[1;32m      1\u001b[0m opt \u001b[38;5;241m=\u001b[39m SolverFactory(\u001b[38;5;124m\"\u001b[39m\u001b[38;5;124mgurobi\u001b[39m\u001b[38;5;124m\"\u001b[39m, solver_io\u001b[38;5;241m=\u001b[39m\u001b[38;5;124m\"\u001b[39m\u001b[38;5;124mpython\u001b[39m\u001b[38;5;124m\"\u001b[39m)\n\u001b[0;32m----> 4\u001b[0m \u001b[43mopt\u001b[49m\u001b[38;5;241;43m.\u001b[39;49m\u001b[43msolve\u001b[49m\u001b[43m(\u001b[49m\u001b[43mmodel\u001b[49m\u001b[43m)\u001b[49m\n\u001b[1;32m      6\u001b[0m model\u001b[38;5;241m.\u001b[39mpprint()\n",
      "File \u001b[0;32m~/opt/anaconda3/envs/pyomo_env/lib/python3.8/site-packages/pyomo/solvers/plugins/solvers/direct_solver.py:142\u001b[0m, in \u001b[0;36mDirectSolver.solve\u001b[0;34m(self, *args, **kwds)\u001b[0m\n\u001b[1;32m    139\u001b[0m \u001b[38;5;28;01mif\u001b[39;00m \u001b[38;5;129;01mnot\u001b[39;00m _model \u001b[38;5;129;01mis\u001b[39;00m \u001b[38;5;28;01mNone\u001b[39;00m:\n\u001b[1;32m    140\u001b[0m     \u001b[38;5;28mself\u001b[39m\u001b[38;5;241m.\u001b[39m_initialize_callbacks(_model)\n\u001b[0;32m--> 142\u001b[0m _status \u001b[38;5;241m=\u001b[39m \u001b[38;5;28;43mself\u001b[39;49m\u001b[38;5;241;43m.\u001b[39;49m\u001b[43m_apply_solver\u001b[49m\u001b[43m(\u001b[49m\u001b[43m)\u001b[49m\n\u001b[1;32m    143\u001b[0m \u001b[38;5;28;01mif\u001b[39;00m \u001b[38;5;28mhasattr\u001b[39m(\u001b[38;5;28mself\u001b[39m, \u001b[38;5;124m'\u001b[39m\u001b[38;5;124m_transformation_data\u001b[39m\u001b[38;5;124m'\u001b[39m):\n\u001b[1;32m    144\u001b[0m     \u001b[38;5;28;01mdel\u001b[39;00m \u001b[38;5;28mself\u001b[39m\u001b[38;5;241m.\u001b[39m_transformation_data\n",
      "File \u001b[0;32m~/opt/anaconda3/envs/pyomo_env/lib/python3.8/site-packages/pyomo/solvers/plugins/solvers/gurobi_direct.py:268\u001b[0m, in \u001b[0;36mGurobiDirect._apply_solver\u001b[0;34m(self)\u001b[0m\n\u001b[1;32m    265\u001b[0m         \u001b[38;5;28;01mif\u001b[39;00m re\u001b[38;5;241m.\u001b[39mmatch(suffix, \u001b[38;5;124m\"\u001b[39m\u001b[38;5;124mdual\u001b[39m\u001b[38;5;124m\"\u001b[39m):\n\u001b[1;32m    266\u001b[0m             \u001b[38;5;28mself\u001b[39m\u001b[38;5;241m.\u001b[39m_solver_model\u001b[38;5;241m.\u001b[39msetParam(gurobipy\u001b[38;5;241m.\u001b[39mGRB\u001b[38;5;241m.\u001b[39mParam\u001b[38;5;241m.\u001b[39mQCPDual, \u001b[38;5;241m1\u001b[39m)\n\u001b[0;32m--> 268\u001b[0m \u001b[38;5;28;43mself\u001b[39;49m\u001b[38;5;241;43m.\u001b[39;49m\u001b[43m_solver_model\u001b[49m\u001b[38;5;241;43m.\u001b[39;49m\u001b[43moptimize\u001b[49m\u001b[43m(\u001b[49m\u001b[38;5;28;43mself\u001b[39;49m\u001b[38;5;241;43m.\u001b[39;49m\u001b[43m_callback\u001b[49m\u001b[43m)\u001b[49m\n\u001b[1;32m    269\u001b[0m \u001b[38;5;28mself\u001b[39m\u001b[38;5;241m.\u001b[39m_needs_updated \u001b[38;5;241m=\u001b[39m \u001b[38;5;28;01mFalse\u001b[39;00m\n\u001b[1;32m    271\u001b[0m \u001b[38;5;28;01mif\u001b[39;00m \u001b[38;5;28mself\u001b[39m\u001b[38;5;241m.\u001b[39m_keepfiles:\n\u001b[1;32m    272\u001b[0m     \u001b[38;5;66;03m# Change LogFile to make Gurobi close the original log file.\u001b[39;00m\n\u001b[1;32m    273\u001b[0m     \u001b[38;5;66;03m# May not work for all Gurobi versions, like ver. 9.5.0.\u001b[39;00m\n",
      "File \u001b[0;32msrc/gurobipy/model.pxi:878\u001b[0m, in \u001b[0;36mgurobipy.Model.optimize\u001b[0;34m()\u001b[0m\n",
      "\u001b[0;31mGurobiError\u001b[0m: Model too large for size-limited license; visit https://www.gurobi.com/free-trial for a full license"
     ]
    }
   ],
   "source": [
    "opt = SolverFactory(\"gurobi\", solver_io=\"python\")\n",
    "\n",
    "\n",
    "opt.solve(model)\n",
    "\n",
    "model.pprint()"
   ]
  },
  {
   "cell_type": "code",
   "execution_count": null,
   "id": "98d21b0b-8df1-47c5-a2d6-e6ac5bf366d9",
   "metadata": {},
   "outputs": [],
   "source": []
  },
  {
   "cell_type": "code",
   "execution_count": null,
   "id": "7b891aab-7773-432d-beb9-19c5a5688e82",
   "metadata": {},
   "outputs": [],
   "source": []
  },
  {
   "cell_type": "code",
   "execution_count": null,
   "id": "ac6107cf-1a9c-415e-a04d-58da31d13a8e",
   "metadata": {},
   "outputs": [],
   "source": []
  },
  {
   "cell_type": "code",
   "execution_count": null,
   "id": "52bd62f2-7c8c-4a0e-9a66-a00c951a8c3c",
   "metadata": {},
   "outputs": [],
   "source": []
  },
  {
   "cell_type": "code",
   "execution_count": null,
   "id": "cbda27c2-9b91-47e9-a7a0-7e3848f6a4b9",
   "metadata": {},
   "outputs": [],
   "source": []
  },
  {
   "cell_type": "code",
   "execution_count": null,
   "id": "594334d9-aba0-49dc-8411-818ec2a2e89a",
   "metadata": {},
   "outputs": [],
   "source": []
  },
  {
   "cell_type": "code",
   "execution_count": null,
   "id": "10abcbef-4329-4c4e-8cff-9ee10bddceb9",
   "metadata": {},
   "outputs": [],
   "source": []
  },
  {
   "cell_type": "code",
   "execution_count": null,
   "id": "cc0a3ce8-2f3f-4460-9108-66bac98aabe2",
   "metadata": {},
   "outputs": [],
   "source": []
  },
  {
   "cell_type": "code",
   "execution_count": null,
   "id": "b59ef7c7-6a17-4cd9-8c40-dce03a4ae21d",
   "metadata": {},
   "outputs": [],
   "source": []
  }
 ],
 "metadata": {
  "kernelspec": {
   "display_name": "Python 3 (ipykernel)",
   "language": "python",
   "name": "python3"
  },
  "language_info": {
   "codemirror_mode": {
    "name": "ipython",
    "version": 3
   },
   "file_extension": ".py",
   "mimetype": "text/x-python",
   "name": "python",
   "nbconvert_exporter": "python",
   "pygments_lexer": "ipython3",
   "version": "3.8.18"
  }
 },
 "nbformat": 4,
 "nbformat_minor": 5
}
